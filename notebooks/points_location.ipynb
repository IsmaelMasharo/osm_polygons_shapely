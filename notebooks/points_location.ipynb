{
 "cells": [
  {
   "cell_type": "code",
   "execution_count": 1,
   "metadata": {
    "scrolled": false
   },
   "outputs": [
    {
     "name": "stdout",
     "output_type": "stream",
     "text": [
      "Requirement already satisfied: shapely in /home/ismael/Documents/others/tech_test/env/lib/python3.6/site-packages (1.7.0)\n",
      "Requirement already satisfied: keplergl in /home/ismael/Documents/others/tech_test/env/lib/python3.6/site-packages (0.1.2)\n",
      "Requirement already satisfied: ipywidgets<8,>=7.0.0 in /home/ismael/Documents/others/tech_test/env/lib/python3.6/site-packages (from keplergl) (7.5.1)\n",
      "Requirement already satisfied: pandas>=0.23.0 in /home/ismael/Documents/others/tech_test/env/lib/python3.6/site-packages (from keplergl) (1.0.1)\n",
      "Requirement already satisfied: traittypes>=0.2.1 in /home/ismael/Documents/others/tech_test/env/lib/python3.6/site-packages (from keplergl) (0.2.1)\n",
      "Requirement already satisfied: Shapely>=1.6.4.post2 in /home/ismael/Documents/others/tech_test/env/lib/python3.6/site-packages (from keplergl) (1.7.0)\n",
      "Requirement already satisfied: geopandas>=0.5.0 in /home/ismael/Documents/others/tech_test/env/lib/python3.6/site-packages (from keplergl) (0.6.3)\n",
      "Requirement already satisfied: nbformat>=4.2.0 in /home/ismael/Documents/others/tech_test/env/lib/python3.6/site-packages (from ipywidgets<8,>=7.0.0->keplergl) (5.0.4)\n",
      "Requirement already satisfied: traitlets>=4.3.1 in /home/ismael/Documents/others/tech_test/env/lib/python3.6/site-packages (from ipywidgets<8,>=7.0.0->keplergl) (4.3.3)\n",
      "Requirement already satisfied: ipykernel>=4.5.1 in /home/ismael/Documents/others/tech_test/env/lib/python3.6/site-packages (from ipywidgets<8,>=7.0.0->keplergl) (5.1.4)\n",
      "Requirement already satisfied: ipython>=4.0.0; python_version >= \"3.3\" in /home/ismael/Documents/others/tech_test/env/lib/python3.6/site-packages (from ipywidgets<8,>=7.0.0->keplergl) (7.12.0)\n",
      "Requirement already satisfied: widgetsnbextension~=3.5.0 in /home/ismael/Documents/others/tech_test/env/lib/python3.6/site-packages (from ipywidgets<8,>=7.0.0->keplergl) (3.5.1)\n",
      "Requirement already satisfied: python-dateutil>=2.6.1 in /home/ismael/Documents/others/tech_test/env/lib/python3.6/site-packages (from pandas>=0.23.0->keplergl) (2.8.1)\n",
      "Requirement already satisfied: numpy>=1.13.3 in /home/ismael/Documents/others/tech_test/env/lib/python3.6/site-packages (from pandas>=0.23.0->keplergl) (1.18.1)\n",
      "Requirement already satisfied: pytz>=2017.2 in /home/ismael/Documents/others/tech_test/env/lib/python3.6/site-packages (from pandas>=0.23.0->keplergl) (2019.3)\n",
      "Requirement already satisfied: pyproj in /home/ismael/Documents/others/tech_test/env/lib/python3.6/site-packages (from geopandas>=0.5.0->keplergl) (2.4.2.post1)\n",
      "Requirement already satisfied: fiona in /home/ismael/Documents/others/tech_test/env/lib/python3.6/site-packages (from geopandas>=0.5.0->keplergl) (1.8.13)\n",
      "Requirement already satisfied: jupyter-core in /home/ismael/Documents/others/tech_test/env/lib/python3.6/site-packages (from nbformat>=4.2.0->ipywidgets<8,>=7.0.0->keplergl) (4.6.2)\n",
      "Requirement already satisfied: ipython-genutils in /home/ismael/Documents/others/tech_test/env/lib/python3.6/site-packages (from nbformat>=4.2.0->ipywidgets<8,>=7.0.0->keplergl) (0.2.0)\n",
      "Requirement already satisfied: jsonschema!=2.5.0,>=2.4 in /home/ismael/Documents/others/tech_test/env/lib/python3.6/site-packages (from nbformat>=4.2.0->ipywidgets<8,>=7.0.0->keplergl) (3.2.0)\n",
      "Requirement already satisfied: decorator in /home/ismael/Documents/others/tech_test/env/lib/python3.6/site-packages (from traitlets>=4.3.1->ipywidgets<8,>=7.0.0->keplergl) (4.4.1)\n",
      "Requirement already satisfied: six in /home/ismael/Documents/others/tech_test/env/lib/python3.6/site-packages (from traitlets>=4.3.1->ipywidgets<8,>=7.0.0->keplergl) (1.14.0)\n",
      "Requirement already satisfied: jupyter-client in /home/ismael/Documents/others/tech_test/env/lib/python3.6/site-packages (from ipykernel>=4.5.1->ipywidgets<8,>=7.0.0->keplergl) (5.3.4)\n",
      "Requirement already satisfied: tornado>=4.2 in /home/ismael/Documents/others/tech_test/env/lib/python3.6/site-packages (from ipykernel>=4.5.1->ipywidgets<8,>=7.0.0->keplergl) (6.0.3)\n",
      "Requirement already satisfied: pexpect; sys_platform != \"win32\" in /home/ismael/Documents/others/tech_test/env/lib/python3.6/site-packages (from ipython>=4.0.0; python_version >= \"3.3\"->ipywidgets<8,>=7.0.0->keplergl) (4.8.0)\n",
      "Requirement already satisfied: prompt-toolkit!=3.0.0,!=3.0.1,<3.1.0,>=2.0.0 in /home/ismael/Documents/others/tech_test/env/lib/python3.6/site-packages (from ipython>=4.0.0; python_version >= \"3.3\"->ipywidgets<8,>=7.0.0->keplergl) (3.0.3)\n",
      "Requirement already satisfied: pygments in /home/ismael/Documents/others/tech_test/env/lib/python3.6/site-packages (from ipython>=4.0.0; python_version >= \"3.3\"->ipywidgets<8,>=7.0.0->keplergl) (2.5.2)\n",
      "Requirement already satisfied: backcall in /home/ismael/Documents/others/tech_test/env/lib/python3.6/site-packages (from ipython>=4.0.0; python_version >= \"3.3\"->ipywidgets<8,>=7.0.0->keplergl) (0.1.0)\n",
      "Requirement already satisfied: pickleshare in /home/ismael/Documents/others/tech_test/env/lib/python3.6/site-packages (from ipython>=4.0.0; python_version >= \"3.3\"->ipywidgets<8,>=7.0.0->keplergl) (0.7.5)\n",
      "Requirement already satisfied: setuptools>=18.5 in /home/ismael/Documents/others/tech_test/env/lib/python3.6/site-packages (from ipython>=4.0.0; python_version >= \"3.3\"->ipywidgets<8,>=7.0.0->keplergl) (45.2.0)\n",
      "Requirement already satisfied: jedi>=0.10 in /home/ismael/Documents/others/tech_test/env/lib/python3.6/site-packages (from ipython>=4.0.0; python_version >= \"3.3\"->ipywidgets<8,>=7.0.0->keplergl) (0.16.0)\n",
      "Requirement already satisfied: notebook>=4.4.1 in /home/ismael/Documents/others/tech_test/env/lib/python3.6/site-packages (from widgetsnbextension~=3.5.0->ipywidgets<8,>=7.0.0->keplergl) (6.0.3)\n",
      "Requirement already satisfied: munch in /home/ismael/Documents/others/tech_test/env/lib/python3.6/site-packages (from fiona->geopandas>=0.5.0->keplergl) (2.5.0)\n",
      "Requirement already satisfied: cligj>=0.5 in /home/ismael/Documents/others/tech_test/env/lib/python3.6/site-packages (from fiona->geopandas>=0.5.0->keplergl) (0.5.0)\n",
      "Requirement already satisfied: attrs>=17 in /home/ismael/Documents/others/tech_test/env/lib/python3.6/site-packages (from fiona->geopandas>=0.5.0->keplergl) (19.3.0)\n",
      "Requirement already satisfied: click-plugins>=1.0 in /home/ismael/Documents/others/tech_test/env/lib/python3.6/site-packages (from fiona->geopandas>=0.5.0->keplergl) (1.1.1)\n",
      "Requirement already satisfied: click<8,>=4.0 in /home/ismael/Documents/others/tech_test/env/lib/python3.6/site-packages (from fiona->geopandas>=0.5.0->keplergl) (7.0)\n",
      "Requirement already satisfied: pyrsistent>=0.14.0 in /home/ismael/Documents/others/tech_test/env/lib/python3.6/site-packages (from jsonschema!=2.5.0,>=2.4->nbformat>=4.2.0->ipywidgets<8,>=7.0.0->keplergl) (0.15.7)\n",
      "Requirement already satisfied: importlib-metadata; python_version < \"3.8\" in /home/ismael/Documents/others/tech_test/env/lib/python3.6/site-packages (from jsonschema!=2.5.0,>=2.4->nbformat>=4.2.0->ipywidgets<8,>=7.0.0->keplergl) (1.5.0)\n",
      "Requirement already satisfied: pyzmq>=13 in /home/ismael/Documents/others/tech_test/env/lib/python3.6/site-packages (from jupyter-client->ipykernel>=4.5.1->ipywidgets<8,>=7.0.0->keplergl) (18.1.1)\n",
      "Requirement already satisfied: ptyprocess>=0.5 in /home/ismael/Documents/others/tech_test/env/lib/python3.6/site-packages (from pexpect; sys_platform != \"win32\"->ipython>=4.0.0; python_version >= \"3.3\"->ipywidgets<8,>=7.0.0->keplergl) (0.6.0)\n",
      "Requirement already satisfied: wcwidth in /home/ismael/Documents/others/tech_test/env/lib/python3.6/site-packages (from prompt-toolkit!=3.0.0,!=3.0.1,<3.1.0,>=2.0.0->ipython>=4.0.0; python_version >= \"3.3\"->ipywidgets<8,>=7.0.0->keplergl) (0.1.8)\n",
      "Requirement already satisfied: parso>=0.5.2 in /home/ismael/Documents/others/tech_test/env/lib/python3.6/site-packages (from jedi>=0.10->ipython>=4.0.0; python_version >= \"3.3\"->ipywidgets<8,>=7.0.0->keplergl) (0.6.1)\n",
      "Requirement already satisfied: Send2Trash in /home/ismael/Documents/others/tech_test/env/lib/python3.6/site-packages (from notebook>=4.4.1->widgetsnbextension~=3.5.0->ipywidgets<8,>=7.0.0->keplergl) (1.5.0)\n",
      "Requirement already satisfied: nbconvert in /home/ismael/Documents/others/tech_test/env/lib/python3.6/site-packages (from notebook>=4.4.1->widgetsnbextension~=3.5.0->ipywidgets<8,>=7.0.0->keplergl) (5.6.1)\n"
     ]
    },
    {
     "name": "stdout",
     "output_type": "stream",
     "text": [
      "Requirement already satisfied: jinja2 in /home/ismael/Documents/others/tech_test/env/lib/python3.6/site-packages (from notebook>=4.4.1->widgetsnbextension~=3.5.0->ipywidgets<8,>=7.0.0->keplergl) (2.11.1)\n",
      "Requirement already satisfied: prometheus-client in /home/ismael/Documents/others/tech_test/env/lib/python3.6/site-packages (from notebook>=4.4.1->widgetsnbextension~=3.5.0->ipywidgets<8,>=7.0.0->keplergl) (0.7.1)\n",
      "Requirement already satisfied: terminado>=0.8.1 in /home/ismael/Documents/others/tech_test/env/lib/python3.6/site-packages (from notebook>=4.4.1->widgetsnbextension~=3.5.0->ipywidgets<8,>=7.0.0->keplergl) (0.8.3)\n",
      "Requirement already satisfied: zipp>=0.5 in /home/ismael/Documents/others/tech_test/env/lib/python3.6/site-packages (from importlib-metadata; python_version < \"3.8\"->jsonschema!=2.5.0,>=2.4->nbformat>=4.2.0->ipywidgets<8,>=7.0.0->keplergl) (2.2.0)\n",
      "Requirement already satisfied: bleach in /home/ismael/Documents/others/tech_test/env/lib/python3.6/site-packages (from nbconvert->notebook>=4.4.1->widgetsnbextension~=3.5.0->ipywidgets<8,>=7.0.0->keplergl) (3.1.0)\n",
      "Requirement already satisfied: entrypoints>=0.2.2 in /home/ismael/Documents/others/tech_test/env/lib/python3.6/site-packages (from nbconvert->notebook>=4.4.1->widgetsnbextension~=3.5.0->ipywidgets<8,>=7.0.0->keplergl) (0.3)\n",
      "Requirement already satisfied: defusedxml in /home/ismael/Documents/others/tech_test/env/lib/python3.6/site-packages (from nbconvert->notebook>=4.4.1->widgetsnbextension~=3.5.0->ipywidgets<8,>=7.0.0->keplergl) (0.6.0)\n",
      "Requirement already satisfied: testpath in /home/ismael/Documents/others/tech_test/env/lib/python3.6/site-packages (from nbconvert->notebook>=4.4.1->widgetsnbextension~=3.5.0->ipywidgets<8,>=7.0.0->keplergl) (0.4.4)\n",
      "Requirement already satisfied: mistune<2,>=0.8.1 in /home/ismael/Documents/others/tech_test/env/lib/python3.6/site-packages (from nbconvert->notebook>=4.4.1->widgetsnbextension~=3.5.0->ipywidgets<8,>=7.0.0->keplergl) (0.8.4)\n",
      "Requirement already satisfied: pandocfilters>=1.4.1 in /home/ismael/Documents/others/tech_test/env/lib/python3.6/site-packages (from nbconvert->notebook>=4.4.1->widgetsnbextension~=3.5.0->ipywidgets<8,>=7.0.0->keplergl) (1.4.2)\n",
      "Requirement already satisfied: MarkupSafe>=0.23 in /home/ismael/Documents/others/tech_test/env/lib/python3.6/site-packages (from jinja2->notebook>=4.4.1->widgetsnbextension~=3.5.0->ipywidgets<8,>=7.0.0->keplergl) (1.1.1)\n",
      "Requirement already satisfied: webencodings in /home/ismael/Documents/others/tech_test/env/lib/python3.6/site-packages (from bleach->nbconvert->notebook>=4.4.1->widgetsnbextension~=3.5.0->ipywidgets<8,>=7.0.0->keplergl) (0.5.1)\n",
      "Requirement already satisfied: pandas in /home/ismael/Documents/others/tech_test/env/lib/python3.6/site-packages (1.0.1)\n",
      "Requirement already satisfied: numpy>=1.13.3 in /home/ismael/Documents/others/tech_test/env/lib/python3.6/site-packages (from pandas) (1.18.1)\n",
      "Requirement already satisfied: python-dateutil>=2.6.1 in /home/ismael/Documents/others/tech_test/env/lib/python3.6/site-packages (from pandas) (2.8.1)\n",
      "Requirement already satisfied: pytz>=2017.2 in /home/ismael/Documents/others/tech_test/env/lib/python3.6/site-packages (from pandas) (2019.3)\n",
      "Requirement already satisfied: six>=1.5 in /home/ismael/Documents/others/tech_test/env/lib/python3.6/site-packages (from python-dateutil>=2.6.1->pandas) (1.14.0)\n"
     ]
    }
   ],
   "source": [
    "!pip install shapely\n",
    "!pip install keplergl\n",
    "!pip install pandas"
   ]
  },
  {
   "cell_type": "code",
   "execution_count": 2,
   "metadata": {},
   "outputs": [],
   "source": [
    "from shapely.geometry import Polygon, Point\n",
    "from keplergl import KeplerGl\n",
    "import pandas as pd"
   ]
  },
  {
   "cell_type": "code",
   "execution_count": 3,
   "metadata": {},
   "outputs": [],
   "source": [
    "bogota_csv = pd.read_csv('../csv_results/location_coordinates.csv', header=0, names=['Location', 'Latitude', 'Longitude'])"
   ]
  },
  {
   "cell_type": "code",
   "execution_count": 4,
   "metadata": {},
   "outputs": [],
   "source": [
    "def load_polygons_in_map():\n",
    "    bogota_map = KeplerGl(height=500)\n",
    "    for location_name in bogota_csv.Location.unique():\n",
    "        bogota_map.add_data(data=bogota_csv[bogota_csv.Location == location_name], name=location_name)\n",
    "    return bogota_map"
   ]
  },
  {
   "cell_type": "code",
   "execution_count": 5,
   "metadata": {},
   "outputs": [
    {
     "name": "stdout",
     "output_type": "stream",
     "text": [
      "User Guide: https://github.com/keplergl/kepler.gl/blob/master/docs/keplergl-jupyter/user-guide.md\n"
     ]
    },
    {
     "data": {
      "application/vnd.jupyter.widget-view+json": {
       "model_id": "8bdae540e17e43adb40525eb23e3dd99",
       "version_major": 2,
       "version_minor": 0
      },
      "text/plain": [
       "KeplerGl(data={'Usaquén': {'index': [0, 1, 2, 3, 4, 5, 6, 7, 8, 9, 10, 11, 12, 13, 14, 15, 16, 17, 18, 19, 20,…"
      ]
     },
     "metadata": {},
     "output_type": "display_data"
    }
   ],
   "source": [
    "bogota_map = load_polygons_in_map()\n",
    "bogota_map"
   ]
  },
  {
   "cell_type": "code",
   "execution_count": 6,
   "metadata": {},
   "outputs": [
    {
     "name": "stderr",
     "output_type": "stream",
     "text": [
      "b'Skipping line 60: expected 3 fields, saw 6\\nSkipping line 102: expected 3 fields, saw 5\\nSkipping line 108: expected 3 fields, saw 5\\n'\n"
     ]
    }
   ],
   "source": [
    "points = pd.read_csv('../datasets/points.csv', error_bad_lines=False, index_col='id')\n",
    "initial_points_shape = points.shape\n",
    "\n",
    "points.columns = ['Latitude', 'Longitude']\n",
    "points['Latitude'] = pd.to_numeric(points['Latitude'], errors='coerce').round(6)\n",
    "points['Longitude'] = pd.to_numeric(points['Longitude'], errors='coerce').round(6)\n",
    "points.dropna(inplace=True)"
   ]
  },
  {
   "cell_type": "code",
   "execution_count": 7,
   "metadata": {},
   "outputs": [],
   "source": [
    "def remove_outlier(df_in):\n",
    "    for col_name in ['Latitude', 'Longitude']:\n",
    "        q1 = df_in[col_name].quantile(0.05)\n",
    "        q3 = df_in[col_name].quantile(0.95)\n",
    "        iqr = q3 - q1\n",
    "        fence_low  = q1 - 1.5*iqr\n",
    "        fence_high = q3 + 1.5*iqr\n",
    "        df_out = df_in.loc[\n",
    "            (df_in[col_name] > fence_low) & \n",
    "            (df_in[col_name] < fence_high)\n",
    "        ]\n",
    "    return df_out"
   ]
  },
  {
   "cell_type": "code",
   "execution_count": 8,
   "metadata": {},
   "outputs": [],
   "source": [
    "points = remove_outlier(points)\n",
    "final_points_shape = points.shape"
   ]
  },
  {
   "cell_type": "code",
   "execution_count": 9,
   "metadata": {},
   "outputs": [
    {
     "name": "stdout",
     "output_type": "stream",
     "text": [
      "initial shape: (120, 2) final shape (111, 2)\n"
     ]
    },
    {
     "data": {
      "text/html": [
       "<div>\n",
       "<style scoped>\n",
       "    .dataframe tbody tr th:only-of-type {\n",
       "        vertical-align: middle;\n",
       "    }\n",
       "\n",
       "    .dataframe tbody tr th {\n",
       "        vertical-align: top;\n",
       "    }\n",
       "\n",
       "    .dataframe thead th {\n",
       "        text-align: right;\n",
       "    }\n",
       "</style>\n",
       "<table border=\"1\" class=\"dataframe\">\n",
       "  <thead>\n",
       "    <tr style=\"text-align: right;\">\n",
       "      <th></th>\n",
       "      <th>Latitude</th>\n",
       "      <th>Longitude</th>\n",
       "    </tr>\n",
       "    <tr>\n",
       "      <th>id</th>\n",
       "      <th></th>\n",
       "      <th></th>\n",
       "    </tr>\n",
       "  </thead>\n",
       "  <tbody>\n",
       "    <tr>\n",
       "      <th>1</th>\n",
       "      <td>4.690908</td>\n",
       "      <td>-74.101481</td>\n",
       "    </tr>\n",
       "    <tr>\n",
       "      <th>2</th>\n",
       "      <td>4.579712</td>\n",
       "      <td>-74.083425</td>\n",
       "    </tr>\n",
       "    <tr>\n",
       "      <th>3</th>\n",
       "      <td>4.652541</td>\n",
       "      <td>-74.060370</td>\n",
       "    </tr>\n",
       "    <tr>\n",
       "      <th>4</th>\n",
       "      <td>4.717322</td>\n",
       "      <td>-74.133320</td>\n",
       "    </tr>\n",
       "    <tr>\n",
       "      <th>5</th>\n",
       "      <td>4.717767</td>\n",
       "      <td>-74.041595</td>\n",
       "    </tr>\n",
       "  </tbody>\n",
       "</table>\n",
       "</div>"
      ],
      "text/plain": [
       "    Latitude  Longitude\n",
       "id                     \n",
       "1   4.690908 -74.101481\n",
       "2   4.579712 -74.083425\n",
       "3   4.652541 -74.060370\n",
       "4   4.717322 -74.133320\n",
       "5   4.717767 -74.041595"
      ]
     },
     "execution_count": 9,
     "metadata": {},
     "output_type": "execute_result"
    }
   ],
   "source": [
    "print('initial shape:', initial_points_shape, 'final shape', final_points_shape)\n",
    "points.head()"
   ]
  },
  {
   "cell_type": "code",
   "execution_count": 10,
   "metadata": {},
   "outputs": [
    {
     "name": "stdout",
     "output_type": "stream",
     "text": [
      "User Guide: https://github.com/keplergl/kepler.gl/blob/master/docs/keplergl-jupyter/user-guide.md\n"
     ]
    },
    {
     "data": {
      "application/vnd.jupyter.widget-view+json": {
       "model_id": "9fd8a639db7746ddb21299c1350ee9d6",
       "version_major": 2,
       "version_minor": 0
      },
      "text/plain": [
       "KeplerGl(data={'points': {'index': [1, 2, 3, 4, 5, 6, 7, 8, 9, 10, 11, 12, 13, 14, 15, 16, 17, 18, 19, 20, 21,…"
      ]
     },
     "metadata": {},
     "output_type": "display_data"
    }
   ],
   "source": [
    "points_map = KeplerGl(height=500)\n",
    "points_map.add_data(data=points, name=\"points\")\n",
    "points_map"
   ]
  },
  {
   "cell_type": "code",
   "execution_count": 11,
   "metadata": {},
   "outputs": [
    {
     "data": {
      "application/vnd.jupyter.widget-view+json": {
       "model_id": "8bdae540e17e43adb40525eb23e3dd99",
       "version_major": 2,
       "version_minor": 0
      },
      "text/plain": [
       "KeplerGl(data={'Usaquén': {'index': [0, 1, 2, 3, 4, 5, 6, 7, 8, 9, 10, 11, 12, 13, 14, 15, 16, 17, 18, 19, 20,…"
      ]
     },
     "metadata": {},
     "output_type": "display_data"
    }
   ],
   "source": [
    "bogota_map.add_data(data=points, name=\"points\")\n",
    "bogota_map"
   ]
  },
  {
   "cell_type": "code",
   "execution_count": 12,
   "metadata": {},
   "outputs": [],
   "source": [
    "def get_polygons_shape_objects(df):\n",
    "    location_shapes = {}\n",
    "    for location_name in df.Location.unique():\n",
    "        data=df[df.Location == location_name]\n",
    "        lat = data.Latitude.tolist()\n",
    "        lon = data.Longitude.tolist()\n",
    "        location_shapes[location_name] = Polygon(list(zip(lat, lon)))\n",
    "    return location_shapes"
   ]
  },
  {
   "cell_type": "code",
   "execution_count": 13,
   "metadata": {},
   "outputs": [],
   "source": [
    "shapes = get_polygons_shape_objects(bogota_csv)"
   ]
  },
  {
   "cell_type": "code",
   "execution_count": 14,
   "metadata": {},
   "outputs": [],
   "source": [
    "def point_location(point):\n",
    "    for location_name, polygon in shapes.items():\n",
    "        if polygon.contains(point):\n",
    "            return location_name\n",
    "    return '-'"
   ]
  },
  {
   "cell_type": "code",
   "execution_count": 15,
   "metadata": {},
   "outputs": [],
   "source": [
    "points['Location'] = points.apply(\n",
    "    lambda row: point_location(Point(row.Latitude, row.Longitude)), axis = 1\n",
    ")"
   ]
  },
  {
   "cell_type": "code",
   "execution_count": 16,
   "metadata": {},
   "outputs": [],
   "source": [
    "points = points[points.Location != '-']"
   ]
  },
  {
   "cell_type": "code",
   "execution_count": 17,
   "metadata": {},
   "outputs": [
    {
     "data": {
      "text/plain": [
       "(110, 3)"
      ]
     },
     "execution_count": 17,
     "metadata": {},
     "output_type": "execute_result"
    }
   ],
   "source": [
    "points.shape"
   ]
  },
  {
   "cell_type": "code",
   "execution_count": 18,
   "metadata": {},
   "outputs": [],
   "source": [
    "points.to_csv('points_location.csv')"
   ]
  },
  {
   "cell_type": "code",
   "execution_count": 19,
   "metadata": {},
   "outputs": [
    {
     "name": "stdout",
     "output_type": "stream",
     "text": [
      "Map saved to bogota_map.html!\n",
      "Map saved to points_map.html!\n"
     ]
    }
   ],
   "source": [
    "bogota_map.save_to_html(file_name='bogota_map.html')\n",
    "points_map.save_to_html(file_name='points_map.html')"
   ]
  }
 ],
 "metadata": {
  "kernelspec": {
   "display_name": "Python 3",
   "language": "python",
   "name": "python3"
  },
  "language_info": {
   "codemirror_mode": {
    "name": "ipython",
    "version": 3
   },
   "file_extension": ".py",
   "mimetype": "text/x-python",
   "name": "python",
   "nbconvert_exporter": "python",
   "pygments_lexer": "ipython3",
   "version": "3.6.9"
  }
 },
 "nbformat": 4,
 "nbformat_minor": 2
}
